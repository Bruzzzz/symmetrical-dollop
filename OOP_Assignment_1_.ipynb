{
  "nbformat": 4,
  "nbformat_minor": 0,
  "metadata": {
    "colab": {
      "provenance": [],
      "gpuType": "T4",
      "authorship_tag": "ABX9TyOE5du7EbZK8Ig2wYG6G07r",
      "include_colab_link": true
    },
    "kernelspec": {
      "name": "python3",
      "display_name": "Python 3"
    },
    "language_info": {
      "name": "python"
    },
    "accelerator": "GPU"
  },
  "cells": [
    {
      "cell_type": "markdown",
      "metadata": {
        "id": "view-in-github",
        "colab_type": "text"
      },
      "source": [
        "<a href=\"https://colab.research.google.com/github/Bruzzzz/symmetrical-dollop/blob/main/OOP_Assignment_1_.ipynb\" target=\"_parent\"><img src=\"https://colab.research.google.com/assets/colab-badge.svg\" alt=\"Open In Colab\"/></a>"
      ]
    },
    {
      "cell_type": "code",
      "execution_count": 2,
      "metadata": {
        "colab": {
          "base_uri": "https://localhost:8080/"
        },
        "id": "IRS4i39T8EeD",
        "outputId": "41cfe831-0f6d-4859-868f-a889dd080451"
      },
      "outputs": [
        {
          "output_type": "stream",
          "name": "stdout",
          "text": [
            "Enter your first name: SHIMA\n",
            "Enter your age: 14\n",
            "Hello SHIMA, you are 14 years old.\n",
            "Hello SHIMA, you are 14 years old.\n",
            "Hello SHIMA, you are 14 years old.\n",
            "\n"
          ]
        }
      ],
      "source": [
        "# Question 1: Strings and I/O\n",
        "\n",
        "# a) Prompt user for first name and age\n",
        "name = input(\"Enter your first name: \")\n",
        "age = input(\"Enter your age: \")\n",
        "\n",
        "# b) Concatenate into greeting message\n",
        "message = f\"Hello {name}, you are {age} years old.\"\n",
        "\n",
        "# c) Print message three times using string operations\n",
        "print((message + \"\\n\") * 3)\n"
      ]
    },
    {
      "cell_type": "code",
      "source": [
        "# Question 2: Comparison and Control Flow\n",
        "\n",
        "# a) Prompt user for two integers\n",
        "a = int(input(\"Enter first integer: \"))\n",
        "b = int(input(\"Enter second integer: \"))\n",
        "\n",
        "# b) Compare numbers\n",
        "if a > b:\n",
        "    print(f\"{a} is greater than {b}\")\n",
        "elif a < b:\n",
        "    print(f\"{b} is greater than {a}\")\n",
        "else:\n",
        "    print(\"Both numbers are equal\")\n",
        "\n",
        "# c) Additional condition\n",
        "if a % 2 == 0 and b % 2 == 0:\n",
        "    print(\"Both are even\")\n",
        "else:\n",
        "    print(\"At least one is odd\")\n"
      ],
      "metadata": {
        "colab": {
          "base_uri": "https://localhost:8080/"
        },
        "id": "bbJ8nPvD8sdM",
        "outputId": "10c89247-ebd1-40db-a98a-768a4d39a98b"
      },
      "execution_count": 5,
      "outputs": [
        {
          "output_type": "stream",
          "name": "stdout",
          "text": [
            "Enter first integer: 4\n",
            "Enter second integer: 9\n",
            "9 is greater than 4\n",
            "At least one is odd\n"
          ]
        }
      ]
    },
    {
      "cell_type": "code",
      "source": [
        "# Question 3: Loops and Lists\n",
        "\n",
        "# a) Get five numbers from the user\n",
        "numbers = []\n",
        "for i in range(5):\n",
        "    num = float(input(f\"Enter number {i+1}: \"))\n",
        "    numbers.append(num)\n",
        "\n",
        "# b) Define the analyze_list function\n",
        "def analyze_list(L):\n",
        "    total = sum(L)\n",
        "    max_value = max(L)\n",
        "    min_value = min(L)\n",
        "    return total, max_value, min_value\n",
        "\n",
        "# c) Display results\n",
        "result = analyze_list(numbers)\n",
        "print(f\"\\nSum: {result[0]}, Max: {result[1]}, Min: {result[2]}\")\n"
      ],
      "metadata": {
        "colab": {
          "base_uri": "https://localhost:8080/"
        },
        "id": "3OTZe87w9EbT",
        "outputId": "6e29fb89-3c0d-443b-e223-100d3639b86d"
      },
      "execution_count": 7,
      "outputs": [
        {
          "output_type": "stream",
          "name": "stdout",
          "text": [
            "Enter number 1: 4\n",
            "Enter number 2: 90\n",
            "Enter number 3: 9\n",
            "Enter number 4: 40\n",
            "Enter number 5: 2\n",
            "\n",
            "Sum: 145.0, Max: 90.0, Min: 2.0\n"
          ]
        }
      ]
    },
    {
      "cell_type": "code",
      "source": [
        "# Question 4: Functions and Abstraction\n",
        "\n",
        "# a) Define function to check if a number is prime\n",
        "def is_prime(n):\n",
        "    if n < 2:\n",
        "        return False\n",
        "    for i in range(2, int(n**0.5) + 1):\n",
        "        if n % i == 0:\n",
        "            return False\n",
        "    return True\n",
        "\n",
        "# b) Generate all prime numbers between 1 and 50\n",
        "prime_numbers = [n for n in range(1, 51) if is_prime(n)]\n",
        "\n",
        "# c) Display primes on one line\n",
        "print(\"Prime numbers between 1 and 50:\")\n",
        "print(*prime_numbers)\n"
      ],
      "metadata": {
        "colab": {
          "base_uri": "https://localhost:8080/"
        },
        "id": "bNjUr5OG9ap_",
        "outputId": "cf51105e-b189-4a3e-811f-f6bfc065dc95"
      },
      "execution_count": 8,
      "outputs": [
        {
          "output_type": "stream",
          "name": "stdout",
          "text": [
            "Prime numbers between 1 and 50:\n",
            "2 3 5 7 11 13 17 19 23 29 31 37 41 43 47\n"
          ]
        }
      ]
    },
    {
      "cell_type": "code",
      "source": [
        "# Question 5: Object-Oriented Programming\n",
        "\n",
        "import math\n",
        "\n",
        "# a) Define class Coordinate\n",
        "class Coordinate:\n",
        "    def __init__(self, x, y):\n",
        "        self.x = x\n",
        "        self.y = y\n",
        "\n",
        "    # b) Define method to compute Euclidean distance\n",
        "    def distance(self, other):\n",
        "        return math.sqrt((self.x - other.x)**2 + (self.y - other.y)**2)\n",
        "\n",
        "# c) Demonstrate the class\n",
        "point1 = Coordinate(5, 9)\n",
        "point2 = Coordinate(3, 4)\n",
        "\n",
        "dist = point1.distance(point2)\n",
        "print(f\"Distance between points: {dist}\")\n"
      ],
      "metadata": {
        "colab": {
          "base_uri": "https://localhost:8080/"
        },
        "id": "fENkZ2ZU9PMm",
        "outputId": "7cd31fad-fa24-439d-fe2a-44b704c0a08f"
      },
      "execution_count": 12,
      "outputs": [
        {
          "output_type": "stream",
          "name": "stdout",
          "text": [
            "Distance between points: 5.385164807134504\n"
          ]
        }
      ]
    }
  ]
}