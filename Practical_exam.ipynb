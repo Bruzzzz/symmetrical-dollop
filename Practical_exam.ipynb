{
  "nbformat": 4,
  "nbformat_minor": 0,
  "metadata": {
    "colab": {
      "provenance": [],
      "gpuType": "T4",
      "authorship_tag": "ABX9TyN7CxS+nLPfMFFn2PnpnOz0",
      "include_colab_link": true
    },
    "kernelspec": {
      "name": "python3",
      "display_name": "Python 3"
    },
    "language_info": {
      "name": "python"
    },
    "accelerator": "GPU"
  },
  "cells": [
    {
      "cell_type": "markdown",
      "metadata": {
        "id": "view-in-github",
        "colab_type": "text"
      },
      "source": [
        "<a href=\"https://colab.research.google.com/github/Bruzzzz/symmetrical-dollop/blob/main/Practical_exam.ipynb\" target=\"_parent\"><img src=\"https://colab.research.google.com/assets/colab-badge.svg\" alt=\"Open In Colab\"/></a>"
      ]
    },
    {
      "cell_type": "code",
      "execution_count": 4,
      "metadata": {
        "colab": {
          "base_uri": "https://localhost:8080/"
        },
        "id": "5h5KdHmO4B0J",
        "outputId": "a35014aa-13b3-418f-c7a7-2fe0063940c3"
      },
      "outputs": [
        {
          "output_type": "stream",
          "name": "stdout",
          "text": [
            "Account 1 balance: 170\n",
            "Account 2 balance: 220\n"
          ]
        }
      ],
      "source": [
        "## Question 1: Review &  Refactoring ##\n",
        "\n",
        "class BankAccount:\n",
        "    def __init__(self, balance=0): self._balance = balance\n",
        "    def deposit(self, amount):\n",
        "        if amount > 0: self._balance += amount\n",
        "    def withdraw(self, amount):\n",
        "        if amount <= self._balance: self._balance -= amount\n",
        "    def get_balance(self): return self._balance\n",
        "\n",
        "# Test\n",
        "a1 = BankAccount()\n",
        "a2 = BankAccount(100)\n",
        "\n",
        "a1.deposit(200); a1.withdraw(30)\n",
        "a2.deposit(150); a2.withdraw(300); a2.withdraw(30)\n",
        "\n",
        "print(\"Account 1 balance:\", a1.get_balance())\n",
        "print(\"Account 2 balance:\", a2.get_balance())\n"
      ]
    },
    {
      "cell_type": "code",
      "source": [
        "## Question 1b: Student class and average function ##\n",
        "\n",
        "\n",
        "class Student:\n",
        "    def __init__(self, name, marks): self.name, self.marks = name, marks\n",
        "    def display(self): print(f\"{self.name} => {self.marks}\")\n",
        "\n",
        "def avg(students): return sum(s.marks for s in students)/len(students)\n",
        "\n",
        "students = [Student(\"Alice\",80), Student(\"Bob\",90), Student(\"Chris\",75)]\n",
        "for s in students: s.display()\n",
        "print(\"Average Marks:\", avg(students))\n"
      ],
      "metadata": {
        "colab": {
          "base_uri": "https://localhost:8080/"
        },
        "id": "v_ujK2cJhIKB",
        "outputId": "aadca806-b6c2-4527-8825-8e1173b2da66"
      },
      "execution_count": 5,
      "outputs": [
        {
          "output_type": "stream",
          "name": "stdout",
          "text": [
            "Alice => 80\n",
            "Bob => 90\n",
            "Chris => 75\n",
            "Average Marks: 81.66666666666667\n"
          ]
        }
      ]
    },
    {
      "cell_type": "code",
      "source": [
        "# Question 2a: string_tools.py\n",
        "\n",
        "def count_vowels(text):\n",
        "    return sum(c.lower() in 'aeiou' for c in text)\n",
        "\n",
        "def is_palindrome(text):\n",
        "    t = text.lower().replace(\" \", \"\")\n",
        "    return t == t[::-1]\n"
      ],
      "metadata": {
        "id": "eSid1gPX4-bi"
      },
      "execution_count": 6,
      "outputs": []
    },
    {
      "cell_type": "code",
      "source": [
        "# Question 2a: main.py\n",
        "import string_tools as st\n",
        "\n",
        "txt = input(\"Enter text: \")\n",
        "print(\"Vowels:\", st.count_vowels(txt))\n",
        "print(\"Palindrome:\", st.is_palindrome(txt))\n"
      ],
      "metadata": {
        "id": "YgqHR0WN5sBv",
        "colab": {
          "base_uri": "https://localhost:8080/"
        },
        "outputId": "1e4bb6e0-29f8-4457-97ea-abd89e381708"
      },
      "execution_count": 18,
      "outputs": [
        {
          "output_type": "stream",
          "name": "stdout",
          "text": [
            "Enter text: aee\n",
            "Vowels: 3\n",
            "Palindrome: False\n"
          ]
        }
      ]
    },
    {
      "cell_type": "code",
      "metadata": {
        "colab": {
          "base_uri": "https://localhost:8080/"
        },
        "id": "280e16bf",
        "outputId": "0e6b22ad-5bcf-4c2a-e73a-c3f2b066ce2b"
      },
      "source": [
        "# Save the content of cell eSid1gPX4-bi as string_tools.py\n",
        "%%writefile string_tools.py\n",
        "# Question 2a: string_tools.py\n",
        "\n",
        "def count_vowels(text):\n",
        "    return sum(c.lower() in 'aeiou' for c in text)\n",
        "\n",
        "def is_palindrome(text):\n",
        "    t = text.lower().replace(\" \", \"\")\n",
        "    return t == t[::-1]"
      ],
      "execution_count": 15,
      "outputs": [
        {
          "output_type": "stream",
          "name": "stdout",
          "text": [
            "Writing string_tools.py\n"
          ]
        }
      ]
    },
    {
      "cell_type": "code",
      "source": [
        "# Question 2b: math_utils.py\n",
        "def factorial(n): return 1 if n <= 1 else n * factorial(n - 1)\n",
        "def gcd(a,b): return a if b == 0 else gcd(b, a % b)\n",
        "def fibonacci(n): return n if n <= 1 else fibonacci(n - 1) + fibonacci(n - 2)\n"
      ],
      "metadata": {
        "id": "GVjXV7BTk7OD"
      },
      "execution_count": 16,
      "outputs": []
    },
    {
      "cell_type": "code",
      "source": [
        "# Question 2b: string_utils.py\n",
        "def count_vowels(t): return sum(c.lower() in 'aeiou' for c in t)\n",
        "def reverse_string(t): return t[::-1]\n"
      ],
      "metadata": {
        "id": "cauyqhn7lDH9"
      },
      "execution_count": 8,
      "outputs": []
    },
    {
      "cell_type": "code",
      "source": [
        "# Question 3a: map(), filter(), reduce()\n",
        "from functools import reduce\n",
        "\n",
        "numbers = [2, 5, 8, 11, 14, 17, 20]\n",
        "\n",
        "# 1️ Square each number using map()\n",
        "squares = list(map(lambda x: x**2, numbers))\n",
        "\n",
        "# 2️ Filter squares greater than 100\n",
        "filtered = list(filter(lambda x: x > 100, squares))\n",
        "\n",
        "# 3️ Compute the sum using reduce()\n",
        "total = reduce(lambda a, b: a + b, filtered)\n",
        "\n",
        "# Display results\n",
        "print(\"Original numbers:\", numbers)\n",
        "print(\"Squares:\", squares)\n",
        "print(\"Squares > 100:\", filtered)\n",
        "print(\"Sum of filtered numbers:\", total)\n"
      ],
      "metadata": {
        "colab": {
          "base_uri": "https://localhost:8080/"
        },
        "id": "AyYgnrPNtcmk",
        "outputId": "a9ece84d-7e02-4ed7-883a-65f550665afa"
      },
      "execution_count": 9,
      "outputs": [
        {
          "output_type": "stream",
          "name": "stdout",
          "text": [
            "Original numbers: [2, 5, 8, 11, 14, 17, 20]\n",
            "Squares: [4, 25, 64, 121, 196, 289, 400]\n",
            "Squares > 100: [121, 196, 289, 400]\n",
            "Sum of filtered numbers: 1006\n"
          ]
        }
      ]
    },
    {
      "cell_type": "code",
      "source": [
        "# Question 4: Functional Programming on Real Data\n",
        "import csv\n",
        "from functools import reduce\n",
        "import requests\n",
        "\n",
        "url = \"https://raw.githubusercontent.com/datasets/population/master/data/population.csv\"\n",
        "data = list(csv.DictReader(requests.get(url).text.splitlines()))\n",
        "\n",
        "# Filter for 2020\n",
        "year_2020 = list(filter(lambda x: x['Year'] == '2020', data))\n",
        "tuples = list(map(lambda x: (x['Country Name'], int(float(x['Value']))), year_2020))\n",
        "sorted_countries = sorted(tuples, key=lambda x: x[1], reverse=True)\n",
        "\n",
        "print(\"Top 5 most populated countries (2020):\")\n",
        "for c, p in sorted_countries[:5]:\n",
        "    print(f\"{c}: {p:,}\")\n",
        "\n",
        "total_pop = reduce(lambda a,b: a+b[1], sorted_countries, 0)\n",
        "print(\"\\nTotal World Population (2020):\", f\"{total_pop:,}\")\n",
        "\n",
        "africa = list(filter(lambda x: \"Africa\" in x[0], sorted_countries))\n",
        "if africa:\n",
        "    avg_africa = reduce(lambda a,b: a+b[1], africa, 0) / len(africa)\n",
        "    print(\"Average population (African countries):\", round(avg_africa))\n",
        "else:\n",
        "    print(\"No African countries found in dataset.\")\n",
        "\n",
        "# Demonstrate immutability\n",
        "print(\"\\nBefore:\", tuples[0])\n",
        "print(\"After sorting:\", sorted_countries[0])"
      ],
      "metadata": {
        "colab": {
          "base_uri": "https://localhost:8080/"
        },
        "id": "xernQrVelp0p",
        "outputId": "51f26780-2738-4e08-d1c8-410b1df636c7"
      },
      "execution_count": 10,
      "outputs": [
        {
          "output_type": "stream",
          "name": "stdout",
          "text": [
            "Top 5 most populated countries (2020):\n",
            "World: 7,856,138,789\n",
            "IDA & IBRD total: 6,667,541,078\n",
            "Low & middle income: 6,438,169,877\n",
            "Middle income: 5,758,609,133\n",
            "IBRD only: 4,879,367,453\n",
            "\n",
            "Total World Population (2020): 84,588,945,334\n",
            "Average population (African countries): 605600608\n",
            "\n",
            "Before: ('Aruba', 108587)\n",
            "After sorting: ('World', 7856138789)\n"
          ]
        }
      ]
    },
    {
      "cell_type": "code",
      "source": [
        "# Bonus: Functional vs List Comprehension Performance\n",
        "import csv, requests, time\n",
        "from functools import reduce\n",
        "\n",
        "url = \"https://raw.githubusercontent.com/datasets/population/master/data/population.csv\"\n",
        "rows = list(csv.DictReader(requests.get(url).text.splitlines()))\n",
        "\n",
        "# Extract numeric populations for 2020\n",
        "data_2020 = list(filter(lambda x: x['Year'] == '2020', rows))\n",
        "\n",
        "# --- Functional approach ---\n",
        "start = time.perf_counter()\n",
        "func_result = list(map(lambda x: int(float(x['Value'])), data_2020))\n",
        "func_sum = reduce(lambda a, b: a + b, func_result, 0)\n",
        "func_time = time.perf_counter() - start\n",
        "\n",
        "# --- List comprehension ---\n",
        "start = time.perf_counter()\n",
        "comp_result = [int(float(x['Value'])) for x in data_2020]\n",
        "comp_sum = sum(comp_result)\n",
        "comp_time = time.perf_counter() - start\n",
        "\n",
        "print(\"Functional Sum:\", func_sum, \"Time:\", round(func_time, 5), \"sec\")\n",
        "print(\"List Comprehension Sum:\", comp_sum, \"Time:\", round(comp_time, 5), \"sec\")\n",
        "print(\"Faster Method:\", \"Functional\" if func_time < comp_time else \"List Comprehension\")"
      ],
      "metadata": {
        "colab": {
          "base_uri": "https://localhost:8080/"
        },
        "id": "d-sFZTCBmhXG",
        "outputId": "5be30c31-3fc9-4951-b74e-ba784087e9f6"
      },
      "execution_count": 11,
      "outputs": [
        {
          "output_type": "stream",
          "name": "stdout",
          "text": [
            "Functional Sum: 84588945334 Time: 0.0004 sec\n",
            "List Comprehension Sum: 84588945334 Time: 0.0005 sec\n",
            "Faster Method: Functional\n"
          ]
        }
      ]
    },
    {
      "cell_type": "code",
      "source": [
        "# Question 5a: Multithreading Example\n",
        "import threading, time\n",
        "\n",
        "def print_numbers(name):\n",
        "    for i in range(1, 6):\n",
        "        print(f\"{name}: {i}\")\n",
        "        time.sleep(1)\n",
        "\n",
        "threads = [threading.Thread(target=print_numbers, args=(f\"Thread-{i}\",)) for i in range(1, 4)]\n",
        "for t in threads: t.start()\n",
        "for t in threads: t.join()\n",
        "\n",
        "print(\"All threads complete.\")\n"
      ],
      "metadata": {
        "colab": {
          "base_uri": "https://localhost:8080/"
        },
        "id": "m1MzlwGIfNS8",
        "outputId": "c08ab7e2-b504-46db-f4fb-6328408955ac"
      },
      "execution_count": 12,
      "outputs": [
        {
          "output_type": "stream",
          "name": "stdout",
          "text": [
            "Thread-1: 1\n",
            "Thread-2: 1\n",
            "Thread-3: 1\n",
            "Thread-1: 2Thread-2: 2\n",
            "\n",
            "Thread-3: 2\n",
            "Thread-2: 3\n",
            "Thread-3: 3\n",
            "Thread-1: 3\n",
            "Thread-2: 4Thread-3: 4\n",
            "Thread-1: 4\n",
            "\n",
            "Thread-3: 5\n",
            "Thread-2: 5\n",
            "Thread-1: 5\n",
            "All threads complete.\n"
          ]
        }
      ]
    },
    {
      "cell_type": "code",
      "source": [
        "# Question 5b: Concurrent Data Fetching and Analysis\n",
        "# Concepts: threading, synchronization, join, parallelism, multiprocessing\n",
        "\n",
        "import threading\n",
        "import multiprocessing\n",
        "import requests\n",
        "import pandas as pd\n",
        "import io\n",
        "import time\n",
        "\n",
        "# Dataset URLs\n",
        "URLS = {\n",
        "    \"population\": \"https://raw.githubusercontent.com/datasets/population/master/data/population.csv\",\n",
        "    \"covid\": \"https://raw.githubusercontent.com/owid/covid-19-data/master/public/data/latest/owid-covid-latest.csv\",\n",
        "    \"temperature\": \"https://datahub.io/core/global-temp/r/annual.csv\"\n",
        "}\n",
        "\n",
        "# Shared data storage\n",
        "data_storage = {}\n",
        "lock = threading.Lock()\n",
        "\n",
        "# -------------------------------\n",
        "# PART A: Multithreaded Download\n",
        "# -------------------------------\n",
        "def download_dataset(name, url):\n",
        "    print(f\"Starting download: {name}\")\n",
        "    r = requests.get(url)\n",
        "    with lock:\n",
        "        data_storage[name] = r.text\n",
        "    print(f\"Completed download: {name}\")\n",
        "\n",
        "threads = [threading.Thread(target=download_dataset, args=(n, u)) for n, u in URLS.items()]\n",
        "\n",
        "start_time = time.perf_counter()\n",
        "for t in threads: t.start()\n",
        "for t in threads: t.join()\n",
        "print(\"✅ All downloads complete.\\n\")\n",
        "download_time = time.perf_counter() - start_time\n",
        "\n",
        "\n",
        "# Convert downloaded data into DataFrames\n",
        "pop = pd.read_csv(io.StringIO(data_storage[\"population\"]))\n",
        "covid = pd.read_csv(io.StringIO(data_storage[\"covid\"]))\n",
        "temp = pd.read_csv(io.StringIO(data_storage[\"temperature\"]))\n",
        "\n",
        "# -------------------------------\n",
        "# PART B: Concurrent Data Processing\n",
        "# -------------------------------\n",
        "def total_population():\n",
        "    total_pop = pop[pop[\"Year\"] == 2020][\"Value\"].sum()\n",
        "    with lock:\n",
        "        print(f\"🌍 Total World Population (2020): {int(total_pop):,}\")\n",
        "\n",
        "def total_covid_cases():\n",
        "    total_cases = covid[\"total_cases\"].sum(skipna=True)\n",
        "    with lock:\n",
        "        print(f\"🦠 Total COVID-19 Cases: {int(total_cases):,}\")\n",
        "\n",
        "def avg_temperature():\n",
        "    avg_temp = temp[\"Mean\"].mean()\n",
        "    with lock:\n",
        "        print(f\"🌡️ Average Global Temperature: {avg_temp:.2f} °C\")\n",
        "\n",
        "threads = [\n",
        "    threading.Thread(target=total_population),\n",
        "    threading.Thread(target=total_covid_cases),\n",
        "    threading.Thread(target=avg_temperature)\n",
        "]\n",
        "\n",
        "for t in threads: t.start()\n",
        "for t in threads: t.join()\n",
        "print(\"✅ Concurrent data processing complete.\\n\")\n",
        "\n",
        "# -------------------------------\n",
        "# PART C: BONUS — Multiprocessing Comparison\n",
        "# -------------------------------\n",
        "def process_task(name):\n",
        "    if name == \"population\":\n",
        "        return pop[pop[\"Year\"] == 2020][\"Value\"].sum()\n",
        "    elif name == \"covid\":\n",
        "        return covid[\"total_cases\"].sum(skipna=True)\n",
        "    elif name == \"temperature\":\n",
        "        return temp[\"Mean\"].mean()\n",
        "\n",
        "# Compare Threading vs Multiprocessing runtime\n",
        "def compare_performance():\n",
        "    print(\"=== Comparing Threading vs Multiprocessing ===\")\n",
        "\n",
        "    # Threading\n",
        "    start = time.perf_counter()\n",
        "    threads = [threading.Thread(target=process_task, args=(n,)) for n in URLS.keys()]\n",
        "    for t in threads: t.start()\n",
        "    for t in threads: t.join()\n",
        "    thread_time = time.perf_counter() - start\n",
        "\n",
        "    # Multiprocessing\n",
        "    start = time.perf_counter()\n",
        "    with multiprocessing.Pool(3) as pool:\n",
        "        pool.map(process_task, URLS.keys())\n",
        "    process_time = time.perf_counter() - start\n",
        "\n",
        "    print(f\"🧵 Threading time: {thread_time:.4f} seconds\")\n",
        "    print(f\"⚙️  Multiprocessing time: {process_time:.4f} seconds\")\n",
        "    print(\"🚀 Faster method:\", \"Multiprocessing\" if process_time < thread_time else \"Threading\")\n",
        "\n",
        "compare_performance()\n"
      ],
      "metadata": {
        "colab": {
          "base_uri": "https://localhost:8080/"
        },
        "id": "ZI_YEgqsip5d",
        "outputId": "ac65db1b-8e13-46e7-ccdf-4974e77750b1"
      },
      "execution_count": 13,
      "outputs": [
        {
          "output_type": "stream",
          "name": "stdout",
          "text": [
            "Starting download: population\n",
            "Starting download: covid\n",
            "Starting download: temperature\n",
            "Completed download: population\n",
            "Completed download: covid\n",
            "Completed download: temperature\n",
            "✅ All downloads complete.\n",
            "\n",
            "🦠 Total COVID-19 Cases: 3,288,119,237\n",
            "🌍 Total World Population (2020): 84,588,945,340\n",
            "🌡️ Average Global Temperature: -0.01 °C\n",
            "✅ Concurrent data processing complete.\n",
            "\n",
            "=== Comparing Threading vs Multiprocessing ===\n",
            "🧵 Threading time: 0.0012 seconds\n",
            "⚙️  Multiprocessing time: 0.0478 seconds\n",
            "🚀 Faster method: Threading\n"
          ]
        }
      ]
    },
    {
      "cell_type": "code",
      "source": [
        "# Question 6: Emerging Paradigms\n",
        "# Concepts: async/await, event loops, concurrent API access, cloud integration\n",
        "\n",
        "import asyncio, aiohttp, aiofiles, requests, time\n",
        "\n",
        "# --------------------------\n",
        "# PART A: Basic API Interaction\n",
        "# --------------------------\n",
        "print(\"=== PART A: Basic API Interaction ===\")\n",
        "\n",
        "url = \"https://api.github.com/users/octocat\"\n",
        "response = requests.get(url)\n",
        "data = response.json()\n",
        "\n",
        "print(\"User Name:\", data[\"login\"])\n",
        "print(\"Public Repositories:\", data[\"public_repos\"])\n",
        "print(\"Profile URL:\", data[\"html_url\"])\n",
        "print(\"-\" * 60)\n",
        "\n",
        "\n",
        "# --------------------------\n",
        "# PART B: Asynchronous API Calls\n",
        "# --------------------------\n",
        "print(\"=== PART B: Asynchronous API Calls ===\")\n",
        "\n",
        "users = [\"octocat\", \"torvalds\", \"mojombo\", \"defunkt\", \"pjhyett\"]\n",
        "\n",
        "async def fetch_user(session, username):\n",
        "    async with session.get(f\"https://api.github.com/users/{username}\") as resp:\n",
        "        return await resp.json()\n",
        "\n",
        "async def fetch_all_users():\n",
        "    async with aiohttp.ClientSession() as session:\n",
        "        tasks = [fetch_user(session, u) for u in users]\n",
        "        results = await asyncio.gather(*tasks)\n",
        "        sorted_results = sorted(results, key=lambda x: x.get(\"public_repos\", 0), reverse=True)\n",
        "        print(\"\\nTop GitHub Users (by public repos):\")\n",
        "        for user in sorted_results:\n",
        "            print(f\"{user['login']}: {user['public_repos']} repos\")\n",
        "        return sorted_results\n",
        "\n",
        "await fetch_all_users()\n",
        "print(\"-\" * 60)\n",
        "\n",
        "\n",
        "# --------------------------\n",
        "# PART C: Cloud & Service-Oriented Concepts\n",
        "# --------------------------\n",
        "print(\"=== PART C: GitHub + Weather API Integration ===\")\n",
        "\n",
        "async def fetch_weather(session):\n",
        "    url = \"https://api.open-meteo.com/v1/forecast?latitude=0.3&longitude=32.6&current_weather=true\"\n",
        "    async with session.get(url) as r:\n",
        "        return await r.json()\n",
        "\n",
        "async def fetch_combined():\n",
        "    async with aiohttp.ClientSession() as session:\n",
        "        user_tasks = [fetch_user(session, u) for u in users]\n",
        "        weather_task = fetch_weather(session)\n",
        "\n",
        "        results = await asyncio.gather(*user_tasks, weather_task)\n",
        "        weather = results[-1]\n",
        "        user_data = results[:-1]\n",
        "        top_user = max(user_data, key=lambda x: x.get(\"public_repos\", 0))\n",
        "\n",
        "        print(f\"\\nTop User: {top_user['login']} ({top_user['public_repos']} repos)\")\n",
        "        w = weather[\"current_weather\"]\n",
        "        print(f\"Weather: Temp = {w['temperature']}°C, Wind = {w['windspeed']} km/h\")\n",
        "        print(\"-\" * 60)\n",
        "        return top_user, weather\n",
        "\n",
        "await fetch_combined()\n",
        "print(\"-\" * 60)\n",
        "\n",
        "\n",
        "# --------------------------\n",
        "# PART D (Bonus): Async Retry + Async Logging\n",
        "# --------------------------\n",
        "print(\"=== PART D: Async Retry + Async Logging ===\")\n",
        "\n",
        "async def fetch_with_retry(session, url, retries=3, delay=1):\n",
        "    for attempt in range(1, retries + 1):\n",
        "        try:\n",
        "            async with session.get(url) as resp:\n",
        "                if resp.status == 200:\n",
        "                    return await resp.json()\n",
        "                else:\n",
        "                    raise Exception(f\"HTTP {resp.status}\")\n",
        "        except Exception as e:\n",
        "            if attempt < retries:\n",
        "                print(f\"Retry {attempt} failed ({e}), retrying in {delay}s...\")\n",
        "                await asyncio.sleep(delay)\n",
        "            else:\n",
        "                print(f\"Failed after {retries} attempts: {url}\")\n",
        "                return None\n",
        "\n",
        "async def log_message(msg):\n",
        "    async with aiofiles.open(\"api_log.txt\", \"a\") as f:\n",
        "        await f.write(f\"[{time.strftime('%H:%M:%S')}] {msg}\\n\")\n",
        "\n",
        "async def fetch_user_data(session, username):\n",
        "    url = f\"https://api.github.com/users/{username}\"\n",
        "    data = await fetch_with_retry(session, url)\n",
        "    if data:\n",
        "        msg = f\"{data['login']}: {data['public_repos']} repos\"\n",
        "        print(msg)\n",
        "        await log_message(msg)\n",
        "    return data\n",
        "\n",
        "async def bonus_main():\n",
        "    async with aiohttp.ClientSession() as session:\n",
        "        tasks = []\n",
        "        for user in users:\n",
        "            tasks.append(fetch_with_retry(session, f\"https://api.github.com/users/{user}\"))\n",
        "        results = await asyncio.gather(*tasks)\n",
        "\n",
        "        # Log and print valid responses\n",
        "        valid = [r for r in results if r]\n",
        "        for r in valid:\n",
        "            msg = f\"{r['login']}: {r['public_repos']} repos\"\n",
        "            print(msg)\n",
        "            await log_message(msg)\n",
        "\n",
        "        # Fetch weather concurrently\n",
        "        weather = await fetch_with_retry(\n",
        "            session,\n",
        "            \"https://api.open-meteo.com/v1/forecast?latitude=0.3&longitude=32.6&current_weather=true\"\n",
        "        )\n",
        "        if weather:\n",
        "            w = weather[\"current_weather\"]\n",
        "            summary = f\"Weather -> Temp: {w['temperature']}°C, Wind: {w['windspeed']} km/h\"\n",
        "            print(summary)\n",
        "            await log_message(summary)\n",
        "\n",
        "        # Summarize top user\n",
        "        if valid:\n",
        "            top_user = max(valid, key=lambda x: x[\"public_repos\"])\n",
        "            final_summary = f\"Top User: {top_user['login']} ({top_user['public_repos']} repos)\"\n",
        "            print(final_summary)\n",
        "            await log_message(final_summary)\n",
        "\n",
        "await bonus_main()\n",
        "\n",
        "print(\"\\n✅ Async retry and logging complete! Check 'api_log.txt' for logs.\")"
      ],
      "metadata": {
        "colab": {
          "base_uri": "https://localhost:8080/"
        },
        "id": "2hm8eSYAmu73",
        "outputId": "eb481ad0-bf54-4d3f-e099-a766e9362e6a"
      },
      "execution_count": 14,
      "outputs": [
        {
          "output_type": "stream",
          "name": "stdout",
          "text": [
            "=== PART A: Basic API Interaction ===\n",
            "User Name: octocat\n",
            "Public Repositories: 8\n",
            "Profile URL: https://github.com/octocat\n",
            "------------------------------------------------------------\n",
            "=== PART B: Asynchronous API Calls ===\n",
            "\n",
            "Top GitHub Users (by public repos):\n",
            "defunkt: 107 repos\n",
            "mojombo: 66 repos\n",
            "torvalds: 9 repos\n",
            "octocat: 8 repos\n",
            "pjhyett: 8 repos\n",
            "------------------------------------------------------------\n",
            "=== PART C: GitHub + Weather API Integration ===\n",
            "\n",
            "Top User: defunkt (107 repos)\n",
            "Weather: Temp = 23.8°C, Wind = 6.4 km/h\n",
            "------------------------------------------------------------\n",
            "------------------------------------------------------------\n",
            "=== PART D: Async Retry + Async Logging ===\n",
            "octocat: 8 repos\n",
            "torvalds: 9 repos\n",
            "mojombo: 66 repos\n",
            "defunkt: 107 repos\n",
            "pjhyett: 8 repos\n",
            "Weather -> Temp: 23.8°C, Wind: 6.4 km/h\n",
            "Top User: defunkt (107 repos)\n",
            "\n",
            "✅ Async retry and logging complete! Check 'api_log.txt' for logs.\n"
          ]
        }
      ]
    }
  ]
}